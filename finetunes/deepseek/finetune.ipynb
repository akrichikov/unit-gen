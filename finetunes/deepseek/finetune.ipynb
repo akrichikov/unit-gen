{
 "cells": [
  {
   "cell_type": "code",
   "execution_count": null,
   "id": "3bf0068d-9f6f-4c61-bc08-47b9594254d2",
   "metadata": {
    "tags": []
   },
   "outputs": [],
   "source": [
    "!git clone https://github.com/deepseek-ai/DeepSeek-Coder"
   ]
  },
  {
   "cell_type": "code",
   "execution_count": null,
   "id": "14a9e9c5-07b0-4d82-9dde-06559bb14ea2",
   "metadata": {
    "tags": []
   },
   "outputs": [],
   "source": [
    "!pip install deepspeed"
   ]
  },
  {
   "cell_type": "code",
   "execution_count": null,
   "outputs": [],
   "source": [
    "# if you want to clone without large files – just their pointers\n",
    "!apt install git-lfs"
   ],
   "metadata": {
    "collapsed": false
   },
   "id": "8fd2eb721d14953a"
  },
  {
   "cell_type": "code",
   "execution_count": null,
   "id": "f8817387-03de-4fb7-9d6f-63d41e1db328",
   "metadata": {},
   "outputs": [],
   "source": [
    "# Make sure you have git-lfs installed (https://git-lfs.com)\n",
    "!git lfs install\n",
    "# if you want to clone without large files – just their pointers\n",
    "# prepend your git clone with the following env var:\n",
    "!GIT_LFS_SKIP_SMUDGE=1\n",
    "!git clone https://huggingface.co/deepseek-ai/deepseek-coder-6.7b-instruct"
   ]
  },
  {
   "cell_type": "code",
   "execution_count": null,
   "id": "f42cbcf2-09a1-4560-9a61-33a16ad220ea",
   "metadata": {
    "tags": []
   },
   "outputs": [],
   "source": [
    "DATA_PATH=\"summary.jsonl\"\n",
    "OUTPUT_PATH=\"output\"\n",
    "\n",
    "MODEL=\"../../deepseek-coder-6.7b-instruct\"\n",
    "\n",
    "!cd finetune && deepspeed finetune_deepseekcoder.py \\\n",
    "    --model_name_or_path $MODEL_PATH \\\n",
    "    --data_path $DATA_PATH \\\n",
    "    --output_dir $OUTPUT_PATH \\\n",
    "    --num_train_epochs 3 \\\n",
    "    --model_max_length 1024 \\\n",
    "    --per_device_train_batch_size 16 \\\n",
    "    --per_device_eval_batch_size 1 \\\n",
    "    --gradient_accumulation_steps 4 \\\n",
    "    --evaluation_strategy \"no\" \\\n",
    "    --save_strategy \"steps\" \\\n",
    "    --save_steps 100 \\\n",
    "    --save_total_limit 100 \\\n",
    "    --learning_rate 2e-5 \\\n",
    "    --warmup_steps 10 \\\n",
    "    --logging_steps 1 \\\n",
    "    --lr_scheduler_type \"cosine\" \\\n",
    "    --gradient_checkpointing True \\\n",
    "    --report_to \"tensorboard\" \\\n",
    "    --deepspeed configs/ds_config_zero3.json \\\n",
    "    --bf16 True"
   ]
  }
 ],
 "metadata": {
  "kernelspec": {
   "display_name": "Python 3 (ipykernel)",
   "language": "python",
   "name": "python3"
  },
  "language_info": {
   "codemirror_mode": {
    "name": "ipython",
    "version": 3
   },
   "file_extension": ".py",
   "mimetype": "text/x-python",
   "name": "python",
   "nbconvert_exporter": "python",
   "pygments_lexer": "ipython3",
   "version": "3.8.18"
  }
 },
 "nbformat": 4,
 "nbformat_minor": 5
}
